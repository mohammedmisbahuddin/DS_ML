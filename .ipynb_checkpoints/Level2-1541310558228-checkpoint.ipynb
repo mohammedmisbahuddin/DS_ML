{
 "cells": [
  {
   "cell_type": "markdown",
   "metadata": {},
   "source": [
    "<img src = 'https://github.com/insaid2018/Term-1/blob/master/Images/INSAID_Full%20Logo.png?raw=true' width=\"240\" height=\"360\">\n",
    "# __Assignment: Numpy and Pandas__\n",
    "### Level: 2"
   ]
  },
  {
   "cell_type": "markdown",
   "metadata": {},
   "source": [
    "### 1. Form a 1D array containing elements from -2(including) to 10(excluding) in arithmetic progression with common difference 1.5 , negate all elements which are between 2 and 7, in place. Print out this new array."
   ]
  },
  {
   "cell_type": "code",
   "execution_count": 77,
   "metadata": {},
   "outputs": [
    {
     "name": "stdout",
     "output_type": "stream",
     "text": [
      "\n"
     ]
    },
    {
     "data": {
      "text/plain": [
       "array([-2. , -0.5,  1. , -2.5, -4. , -5.5, -7. ,  8.5])"
      ]
     },
     "execution_count": 77,
     "metadata": {},
     "output_type": "execute_result"
    }
   ],
   "source": [
    "import numpy as np\n",
    "\n",
    "print()\n",
    "def generate():\n",
    "    vec = np.arange(-2,10,1.5)\n",
    "    vec = np.where(((vec>=2) & (vec <=7)),vec*-1,vec)\n",
    "    return vec# return modified array\n",
    "generate()"
   ]
  },
  {
   "cell_type": "markdown",
   "metadata": {},
   "source": [
    "### 2. Create random vector of size 7 and replace the maximum value by 2 and minimum by 7. Sort this array in reverse order. Return the modified vector."
   ]
  },
  {
   "cell_type": "code",
   "execution_count": 37,
   "metadata": {},
   "outputs": [
    {
     "data": {
      "text/plain": [
       "array([7.        , 2.        , 0.59297371, 0.4512683 , 0.24293728,\n",
       "       0.23854313, 0.20970291])"
      ]
     },
     "execution_count": 37,
     "metadata": {},
     "output_type": "execute_result"
    }
   ],
   "source": [
    "import numpy as np\n",
    "def generate():\n",
    "    vec = np.random.rand(7)\n",
    "    vec = np.where((vec==vec.max()),2,vec)\n",
    "    vec = np.where((vec==vec.min()),7,vec)\n",
    "    vec = np.sort(vec)\n",
    "    vec = vec[::-1]\n",
    "    return vec\n",
    "generate()\n"
   ]
  },
  {
   "cell_type": "markdown",
   "metadata": {},
   "source": [
    "### 3. Convert a random 7x2 matrix representing cartesian coordinates to polar coordinates. Print out both.\n",
    "Hint: use arctan2()."
   ]
  },
  {
   "cell_type": "code",
   "execution_count": 59,
   "metadata": {},
   "outputs": [
    {
     "name": "stdout",
     "output_type": "stream",
     "text": [
      "[[ 0  1]\n",
      " [ 2  3]\n",
      " [ 4  5]\n",
      " [ 6  7]\n",
      " [ 8  9]\n",
      " [10 11]\n",
      " [12 13]]\n",
      "[[ 1.          1.57079633]\n",
      " [ 3.60555128  0.98279372]\n",
      " [ 6.40312424  0.89605538]\n",
      " [ 9.21954446  0.86217005]\n",
      " [12.04159458  0.84415399]\n",
      " [14.86606875  0.83298127]\n",
      " [17.69180601  0.82537685]]\n"
     ]
    }
   ],
   "source": [
    "import numpy as np\n",
    "def generate():\n",
    "    cd = np.arange(14).reshape(7,2)\n",
    "    cd1 = np.sqrt(cd[:,0]**2+cd[:,1]**2),np.arctan2(cd[:,1],cd[:,0])\n",
    "    print(cd)\n",
    "    print(np.matrix(cd1).T)\n",
    "    return None\n",
    "generate()"
   ]
  },
  {
   "cell_type": "markdown",
   "metadata": {},
   "source": [
    "### 4. Create an numpy array sequence named num_seq when only the starting point, step size and length of sequence is given."
   ]
  },
  {
   "cell_type": "code",
   "execution_count": 71,
   "metadata": {},
   "outputs": [
    {
     "data": {
      "text/plain": [
       "array([ 5,  7,  9, 11, 13, 15, 17, 19, 21, 23, 25, 27, 29, 31, 33])"
      ]
     },
     "execution_count": 71,
     "metadata": {},
     "output_type": "execute_result"
    }
   ],
   "source": [
    "import numpy as np\n",
    "\n",
    "length = 15\n",
    "start = 5\n",
    "step = 2\n",
    "\n",
    "def generate(start, length, step):\n",
    "    end = start + (length - 1)*step  # Tn = a + (n-1)d\n",
    "    num_seq = np.arange(start,end+1,step)\n",
    "    # your code here\n",
    "    return num_seq\n",
    "generate(start, length, step)"
   ]
  },
  {
   "cell_type": "markdown",
   "metadata": {},
   "source": [
    "### 5. Make a 3*3 array using a 1d array of evenly spaced numbers ranging from 0 to 9, name it arr1.<br/> \n",
    "### Then transpose it to obtain arr2.  From arr2 subtract a 1*3 array with all elements 1 to get arr4.\n",
    "HINT: Use reshape and transpose function."
   ]
  },
  {
   "cell_type": "code",
   "execution_count": 76,
   "metadata": {},
   "outputs": [
    {
     "data": {
      "text/plain": [
       "array([[-1.,  2.,  5.],\n",
       "       [ 0.,  3.,  6.],\n",
       "       [ 1.,  4.,  7.]])"
      ]
     },
     "execution_count": 76,
     "metadata": {},
     "output_type": "execute_result"
    }
   ],
   "source": [
    "import numpy as np\n",
    "def generate():\n",
    "    arr1 = np.arange(0,9,1).reshape(3,3)  #generate array and reshape to given size\n",
    "    arr2 = arr1.T  #get the transpose\n",
    "    arr3 = np.ones((1,3)) #get array with only ones [1,1,1]\n",
    "    arr4 = arr2 - arr3  #subtract arr2 - arr3\n",
    "    return arr4\n",
    "generate()\n"
   ]
  },
  {
   "cell_type": "markdown",
   "metadata": {},
   "source": [
    "### 6. Create a DatetimeIndex that contains each business day of 2016 and use it to index a Series of random numbers. Let's call this Series bus_2k16. Print it out. Hint: use pd.date_range."
   ]
  },
  {
   "cell_type": "code",
   "execution_count": 85,
   "metadata": {},
   "outputs": [
    {
     "name": "stdout",
     "output_type": "stream",
     "text": [
      "2016-01-01    0.705279\n",
      "2016-01-04    0.314506\n",
      "2016-01-05    0.551366\n",
      "2016-01-06    0.927191\n",
      "2016-01-07    0.497408\n",
      "                ...   \n",
      "2016-12-26    0.505756\n",
      "2016-12-27    0.025392\n",
      "2016-12-28    0.093198\n",
      "2016-12-29    0.149779\n",
      "2016-12-30    0.367147\n",
      "Freq: B, Length: 261, dtype: float64\n"
     ]
    }
   ],
   "source": [
    "import pandas as pd\n",
    "import numpy as np\n",
    "def generate():\n",
    "    labels = pd.bdate_range('1/1/2016','31/12/2016')\n",
    "    np_ser = np.random.random_sample(len(labels))\n",
    "    bus_2k16 = pd.Series(np_ser, index=labels)\n",
    "    print(bus_2k16)\n",
    "    return None\n",
    "generate()\n"
   ]
  },
  {
   "cell_type": "markdown",
   "metadata": {},
   "source": [
    "###  7. For each calendar month in dataframe bus_2k16, from previous problem. Print out the mean of values also find the sum of the values in bus_2k16 for every Sunday."
   ]
  },
  {
   "cell_type": "code",
   "execution_count": 130,
   "metadata": {},
   "outputs": [
    {
     "name": "stdout",
     "output_type": "stream",
     "text": [
      "1     0.520345\n",
      "2     0.509059\n",
      "3     0.447951\n",
      "4     0.524021\n",
      "5     0.515543\n",
      "6     0.465957\n",
      "7     0.558518\n",
      "8     0.423169\n",
      "9     0.485376\n",
      "10    0.467796\n",
      "11    0.459355\n",
      "12    0.520911\n",
      "dtype: float64\n",
      "24.259385956196915\n"
     ]
    }
   ],
   "source": [
    "import pandas as pd\n",
    "def generate():\n",
    "    labels = pd.date_range('1/1/2016','31/12/2016')\n",
    "    np_ser = np.random.random_sample(len(labels))\n",
    "    bus_2k16 = pd.Series(np_ser, index=labels)\n",
    "    mean_2k16 = bus_2k16.groupby(pd.DatetimeIndex(bus_2k16.index).month).mean()\n",
    "    print(mean_2k16)\n",
    "    ## There is ambiguity is question the last question says that need to generate bussiness days,\n",
    "    # but here it talks about sundays, which does not come under bussiness days\n",
    "    # Anyway i have assumed it to be all days not just bussiness days.\n",
    "    noofsundays = bus_2k16[pd.DatetimeIndex(bus_2k16.index).dayofweek == 6].sum() \n",
    "    print(noofsundays)\n",
    "    return None\n",
    "generate()\n",
    "\n"
   ]
  },
  {
   "cell_type": "markdown",
   "metadata": {},
   "source": [
    "### 8.Given the dataframe df, In the From_To column split each string on the underscore delimiter _ to give a new temporary DataFrame with the correct values. Also standardise the strings so that only the first letter is uppercase (e.g. \"londON\" should become \"London\".) Assign the correct column names to this temporary DataFrame named as temp. Return temp."
   ]
  },
  {
   "cell_type": "code",
   "execution_count": 154,
   "metadata": {},
   "outputs": [
    {
     "data": {
      "text/html": [
       "<div>\n",
       "<style scoped>\n",
       "    .dataframe tbody tr th:only-of-type {\n",
       "        vertical-align: middle;\n",
       "    }\n",
       "\n",
       "    .dataframe tbody tr th {\n",
       "        vertical-align: top;\n",
       "    }\n",
       "\n",
       "    .dataframe thead th {\n",
       "        text-align: right;\n",
       "    }\n",
       "</style>\n",
       "<table border=\"1\" class=\"dataframe\">\n",
       "  <thead>\n",
       "    <tr style=\"text-align: right;\">\n",
       "      <th></th>\n",
       "      <th>FlightNumber</th>\n",
       "      <th>RecentDelays</th>\n",
       "      <th>Airline</th>\n",
       "      <th>From</th>\n",
       "      <th>To</th>\n",
       "    </tr>\n",
       "  </thead>\n",
       "  <tbody>\n",
       "    <tr>\n",
       "      <td>0</td>\n",
       "      <td>10045.0</td>\n",
       "      <td>[23, 47]</td>\n",
       "      <td>KLM(!)</td>\n",
       "      <td>London</td>\n",
       "      <td>Paris</td>\n",
       "    </tr>\n",
       "    <tr>\n",
       "      <td>1</td>\n",
       "      <td>NaN</td>\n",
       "      <td>[]</td>\n",
       "      <td>&lt;Air France&gt; (12)</td>\n",
       "      <td>Madrid</td>\n",
       "      <td>Milan</td>\n",
       "    </tr>\n",
       "    <tr>\n",
       "      <td>2</td>\n",
       "      <td>10065.0</td>\n",
       "      <td>[24, 43, 87]</td>\n",
       "      <td>(British Airways. )</td>\n",
       "      <td>London</td>\n",
       "      <td>Stockholm</td>\n",
       "    </tr>\n",
       "    <tr>\n",
       "      <td>3</td>\n",
       "      <td>NaN</td>\n",
       "      <td>[13]</td>\n",
       "      <td>12. Air France</td>\n",
       "      <td>Budapest</td>\n",
       "      <td>Paris</td>\n",
       "    </tr>\n",
       "    <tr>\n",
       "      <td>4</td>\n",
       "      <td>10085.0</td>\n",
       "      <td>[67, 32]</td>\n",
       "      <td>\"Swiss Air\"</td>\n",
       "      <td>Brussels</td>\n",
       "      <td>London</td>\n",
       "    </tr>\n",
       "  </tbody>\n",
       "</table>\n",
       "</div>"
      ],
      "text/plain": [
       "   FlightNumber  RecentDelays              Airline      From         To\n",
       "0       10045.0      [23, 47]               KLM(!)    London      Paris\n",
       "1           NaN            []    <Air France> (12)    Madrid      Milan\n",
       "2       10065.0  [24, 43, 87]  (British Airways. )    London  Stockholm\n",
       "3           NaN          [13]       12. Air France  Budapest      Paris\n",
       "4       10085.0      [67, 32]          \"Swiss Air\"  Brussels     London"
      ]
     },
     "execution_count": 154,
     "metadata": {},
     "output_type": "execute_result"
    }
   ],
   "source": [
    "import numpy as np\n",
    "df = pd.DataFrame({'From_To': ['LoNDon_paris', 'MAdrid_miLAN', 'londON_StockhOlm', \n",
    "                               'Budapest_PaRis', 'Brussels_londOn'],\n",
    "              'FlightNumber': [10045, np.nan, 10065, np.nan, 10085],\n",
    "              'RecentDelays': [[23, 47], [], [24, 43, 87], [13], [67, 32]],\n",
    "                   'Airline': ['KLM(!)', '<Air France> (12)', '(British Airways. )', \n",
    "                               '12. Air France', '\"Swiss Air\"']})\n",
    "import pandas as pd\n",
    "def generate():\n",
    "    temp = df\n",
    "    new = temp['From_To'].str.split('_',n = 1, expand = True)\n",
    "    temp['From'] = new[0].str.capitalize()\n",
    "    temp['To'] = new[1].str.capitalize()\n",
    "    temp.drop('From_To', axis=1,inplace =True)\n",
    "    return temp\n",
    "generate()\n",
    "\n"
   ]
  },
  {
   "cell_type": "markdown",
   "metadata": {},
   "source": [
    "### 9. Given a dataFrame with 10 columns of real numbers. Find that column's label which has the smallest sum? Also count the number of unique rows the dataframe has. \n",
    "Hint: use idxmin method."
   ]
  },
  {
   "cell_type": "code",
   "execution_count": 178,
   "metadata": {},
   "outputs": [
    {
     "name": "stdout",
     "output_type": "stream",
     "text": [
      "0.716197924976257\n",
      "4\n"
     ]
    }
   ],
   "source": [
    "import numpy as np\n",
    "import pandas as pd\n",
    "df = pd.DataFrame(np.random.random(size=(4, 10)), columns=list('qrstuvwxyz'))\n",
    "#print(df)\n",
    "def generate():\n",
    "    sums = list()\n",
    "    for col in df.columns:\n",
    "        sums.append(df[col].sum())\n",
    "    print(min(sums))\n",
    "    unique_rows = df.groupby(list('qrstuvwxyz')).size().sum()\n",
    "    print(unique_rows)\n",
    "    return None\n",
    "generate()\n"
   ]
  },
  {
   "cell_type": "markdown",
   "metadata": {},
   "source": [
    "### 10. Given a dataFrame df with a column 'int' of integers. Print out the dataframe with filtered out rows which contain the same integer as the row immediately above. Also print out the dataframe after subtracting the mean of all integers from each element .\n",
    "Hint: use drop_duplicates and sub methods"
   ]
  },
  {
   "cell_type": "code",
   "execution_count": 185,
   "metadata": {},
   "outputs": [
    {
     "name": "stdout",
     "output_type": "stream",
     "text": [
      "   int\n",
      "0    1\n",
      "1    2\n",
      "3    3\n",
      "4    4\n",
      "5    5\n",
      "8    6\n",
      "9    7\n",
      "   int\n",
      "0 -3.0\n",
      "1 -2.0\n",
      "3 -1.0\n",
      "4  0.0\n",
      "5  1.0\n",
      "8  2.0\n",
      "9  3.0\n"
     ]
    }
   ],
   "source": [
    "import pandas as pd\n",
    "df = pd.DataFrame({'int': [1, 2, 2, 3, 4, 5, 5, 5, 6, 7, 7]})\n",
    "def generate():\n",
    "    df.drop_duplicates(inplace=True)\n",
    "     # Print out the dataframe with filtered out rows which contain the same integer as the row immediately above\n",
    "    print(df)\n",
    "    df['int'] -= df['int'].mean()\n",
    "    # Print out the dataframe after subtracting the mean of all integers from each element\n",
    "    print(df)\n",
    "    return None\n",
    "generate()\n"
   ]
  }
 ],
 "metadata": {
  "kernelspec": {
   "display_name": "Python 3",
   "language": "python",
   "name": "python3"
  },
  "language_info": {
   "codemirror_mode": {
    "name": "ipython",
    "version": 3
   },
   "file_extension": ".py",
   "mimetype": "text/x-python",
   "name": "python",
   "nbconvert_exporter": "python",
   "pygments_lexer": "ipython3",
   "version": "3.7.4"
  }
 },
 "nbformat": 4,
 "nbformat_minor": 2
}
