{
 "cells": [
  {
   "cell_type": "markdown",
   "metadata": {},
   "source": [
    "<img src=\"https://i.pinimg.com/originals/81/0d/14/810d14dc8fc8a176bc040852693621f5.jpg\"></img>"
   ]
  },
  {
   "cell_type": "markdown",
   "metadata": {},
   "source": [
    "# <center>EDA Project on IPL Dataset</center> "
   ]
  },
  {
   "cell_type": "markdown",
   "metadata": {},
   "source": [
    "# Table Of Contents<br>\n",
    "1. [Preparing Notebook](#1)<br>\n",
    "2. [Loading Data and Preprocessing](#2)<br>\n",
    "   - 2.1. [Loading Data and Basic info about the data](#2_1)<br>\n",
    "   - 2.2. [Describe and find info about the data](#2_3)<br>\n",
    "   - 2.3. [Data Pre profiling](#2_4)<br>\n",
    "   - 2.4. [Drop id, date and umpire3 column](#2_5)<br>\n",
    "   - 2.5. [Fill missing values in City column](#2_6)<br>\n",
    "   - 2.6. [Fill null values for remaining values](#2_7)<br>\n",
    "   - 2.7. [Rename Decan charges as SRH & Fix RPS names](#2_9)<br>\n",
    "   - 2.8. [Data Post Profiling](#2_8)<br>\n",
    "   <br>\n",
    "3. [EDA on IPL data](#3)<br>\n",
    "    - 3.1. [Univariate Analysis](#3_1)<br>\n",
    "        - 3.1.1. [What are the different teams played in IPL?](#3_1_1)<br>\n",
    "        - 3.1.2. [which are top 5 cities where maximum number of matches are played ?](#3_1_2)<br>\n",
    "        - 3.1.3. [How many matches played in each seasons of IPL ?](#3_1_3)<br>\n",
    "        - 3.1.4. [What has been the major decesion when toss is won ?](#3_1_4)<br>\n",
    "        - 3.1.5. [Which have been top teams who have won the toss maximum number of times ?](#3_1_5)<br>\n",
    "        - 3.1.6. [What are the top 5 venues where matches have been played ?](#3_1_6)<br>\n",
    "        - 3.1.7. [Which are top 3 teams which have won maximum matches ?](#3_1_7)<br>\n",
    "        - 3.1.8. [How many matches have been no_result or draw?](#3_1_8)<br>\n",
    "        - 3.1.9. [How many matches have won batting first and won batting second ?](#3_1_9)<br>\n",
    "        - 3.1.10. [Who have done umpring maximum number of times ?](#3_1_10)<br>\n",
    "        - 3.1.11. [Which team has played maximum matches ?](#3_1_11)<br>"
   ]
  },
  {
   "cell_type": "code",
   "execution_count": 1,
   "metadata": {},
   "outputs": [],
   "source": [
    "import numpy as np                     \n",
    "\n",
    "import pandas as pd\n",
    "pd.set_option('mode.chained_assignment', None)      # To suppress pandas warnings.\n",
    "pd.set_option('display.max_colwidth', -1)           # To display all the data in each column\n",
    "pd.options.display.max_columns = 50                 # To display every column of the dataset in head()\n",
    "\n",
    "import warnings\n",
    "warnings.filterwarnings('ignore')                   # To suppress all the warnings in the notebook.\n",
    "\n",
    "import matplotlib.pyplot as plt\n",
    "%matplotlib inline\n",
    "\n",
    "import seaborn as sns\n",
    "sns.set(style='whitegrid', font_scale=1.3, color_codes=True) "
   ]
  },
  {
   "cell_type": "code",
   "execution_count": 2,
   "metadata": {},
   "outputs": [
    {
     "name": "stdout",
     "output_type": "stream",
     "text": [
      "Collecting plotly\n",
      "  Using cached https://files.pythonhosted.org/packages/8e/ce/6ea5683c47b682bffad39ad41d10913141b560b1b875a90dbc6abe3f4fa9/plotly-4.4.1-py2.py3-none-any.whl\n",
      "Collecting six (from plotly)\n",
      "  Using cached https://files.pythonhosted.org/packages/65/26/32b8464df2a97e6dd1b656ed26b2c194606c16fe163c695a992b36c11cdf/six-1.13.0-py2.py3-none-any.whl\n",
      "Collecting retrying>=1.3.3 (from plotly)\n",
      "Installing collected packages: six, retrying, plotly\n",
      "Successfully installed plotly-4.4.1 retrying-1.3.3 six-1.13.0\n",
      "Collecting chart-studio\n",
      "Collecting six (from chart-studio)\n",
      "  Using cached https://files.pythonhosted.org/packages/65/26/32b8464df2a97e6dd1b656ed26b2c194606c16fe163c695a992b36c11cdf/six-1.13.0-py2.py3-none-any.whl\n",
      "Collecting requests (from chart-studio)\n",
      "  Using cached https://files.pythonhosted.org/packages/51/bd/23c926cd341ea6b7dd0b2a00aba99ae0f828be89d72b2190f27c11d4b7fb/requests-2.22.0-py2.py3-none-any.whl\n",
      "Collecting retrying>=1.3.3 (from chart-studio)\n",
      "Collecting plotly (from chart-studio)\n",
      "  Using cached https://files.pythonhosted.org/packages/8e/ce/6ea5683c47b682bffad39ad41d10913141b560b1b875a90dbc6abe3f4fa9/plotly-4.4.1-py2.py3-none-any.whl\n",
      "Collecting urllib3!=1.25.0,!=1.25.1,<1.26,>=1.21.1 (from requests->chart-studio)\n",
      "  Using cached https://files.pythonhosted.org/packages/b4/40/a9837291310ee1ccc242ceb6ebfd9eb21539649f193a7c8c86ba15b98539/urllib3-1.25.7-py2.py3-none-any.whl\n",
      "Collecting certifi>=2017.4.17 (from requests->chart-studio)\n",
      "  Using cached https://files.pythonhosted.org/packages/b9/63/df50cac98ea0d5b006c55a399c3bf1db9da7b5a24de7890bc9cfd5dd9e99/certifi-2019.11.28-py2.py3-none-any.whl\n",
      "Collecting chardet<3.1.0,>=3.0.2 (from requests->chart-studio)\n",
      "  Using cached https://files.pythonhosted.org/packages/bc/a9/01ffebfb562e4274b6487b4bb1ddec7ca55ec7510b22e4c51f14098443b8/chardet-3.0.4-py2.py3-none-any.whl\n",
      "Collecting idna<2.9,>=2.5 (from requests->chart-studio)\n",
      "  Using cached https://files.pythonhosted.org/packages/14/2c/cd551d81dbe15200be1cf41cd03869a46fe7226e7450af7a6545bfc474c9/idna-2.8-py2.py3-none-any.whl\n",
      "Installing collected packages: six, urllib3, certifi, chardet, idna, requests, retrying, plotly, chart-studio\n",
      "Successfully installed certifi-2019.11.28 chardet-3.0.4 chart-studio-1.0.0 idna-2.8 plotly-4.4.1 requests-2.22.0 retrying-1.3.3 six-1.13.0 urllib3-1.25.7\n"
     ]
    }
   ],
   "source": [
    "!pip install plotly --upgrade\n",
    "!pip install chart-studio\n"
   ]
  },
  {
   "cell_type": "code",
   "execution_count": 3,
   "metadata": {},
   "outputs": [
    {
     "data": {
      "text/html": [
       "        <script type=\"text/javascript\">\n",
       "        window.PlotlyConfig = {MathJaxConfig: 'local'};\n",
       "        if (window.MathJax) {MathJax.Hub.Config({SVG: {font: \"STIX-Web\"}});}\n",
       "        if (typeof require !== 'undefined') {\n",
       "        require.undef(\"plotly\");\n",
       "        requirejs.config({\n",
       "            paths: {\n",
       "                'plotly': ['https://cdn.plot.ly/plotly-latest.min']\n",
       "            }\n",
       "        });\n",
       "        require(['plotly'], function(Plotly) {\n",
       "            window._Plotly = Plotly;\n",
       "        });\n",
       "        }\n",
       "        </script>\n",
       "        "
      ]
     },
     "metadata": {},
     "output_type": "display_data"
    }
   ],
   "source": [
    "from plotly.offline import init_notebook_mode, iplot\n",
    "import plotly.graph_objs as go\n",
    "import chart_studio.plotly as py\n",
    "from plotly import tools\n",
    "init_notebook_mode(connected=True)"
   ]
  },
  {
   "cell_type": "markdown",
   "metadata": {},
   "source": [
    "<a id='2'></a>\n",
    "# 2. Data Preprocessing"
   ]
  },
  {
   "cell_type": "markdown",
   "metadata": {},
   "source": [
    "<a id='2_1'></a>\n",
    "## 2.1 Loading Data."
   ]
  },
  {
   "cell_type": "code",
   "execution_count": 4,
   "metadata": {},
   "outputs": [
    {
     "data": {
      "text/html": [
       "<div>\n",
       "<style scoped>\n",
       "    .dataframe tbody tr th:only-of-type {\n",
       "        vertical-align: middle;\n",
       "    }\n",
       "\n",
       "    .dataframe tbody tr th {\n",
       "        vertical-align: top;\n",
       "    }\n",
       "\n",
       "    .dataframe thead th {\n",
       "        text-align: right;\n",
       "    }\n",
       "</style>\n",
       "<table border=\"1\" class=\"dataframe\">\n",
       "  <thead>\n",
       "    <tr style=\"text-align: right;\">\n",
       "      <th></th>\n",
       "      <th>id</th>\n",
       "      <th>season</th>\n",
       "      <th>city</th>\n",
       "      <th>date</th>\n",
       "      <th>team1</th>\n",
       "      <th>team2</th>\n",
       "      <th>toss_winner</th>\n",
       "      <th>toss_decision</th>\n",
       "      <th>result</th>\n",
       "      <th>dl_applied</th>\n",
       "      <th>winner</th>\n",
       "      <th>win_by_runs</th>\n",
       "      <th>win_by_wickets</th>\n",
       "      <th>player_of_match</th>\n",
       "      <th>venue</th>\n",
       "      <th>umpire1</th>\n",
       "      <th>umpire2</th>\n",
       "      <th>umpire3</th>\n",
       "    </tr>\n",
       "  </thead>\n",
       "  <tbody>\n",
       "    <tr>\n",
       "      <td>0</td>\n",
       "      <td>1</td>\n",
       "      <td>2017</td>\n",
       "      <td>Hyderabad</td>\n",
       "      <td>2017-04-05</td>\n",
       "      <td>Sunrisers Hyderabad</td>\n",
       "      <td>Royal Challengers Bangalore</td>\n",
       "      <td>Royal Challengers Bangalore</td>\n",
       "      <td>field</td>\n",
       "      <td>normal</td>\n",
       "      <td>0</td>\n",
       "      <td>Sunrisers Hyderabad</td>\n",
       "      <td>35</td>\n",
       "      <td>0</td>\n",
       "      <td>Yuvraj Singh</td>\n",
       "      <td>Rajiv Gandhi International Stadium, Uppal</td>\n",
       "      <td>AY Dandekar</td>\n",
       "      <td>NJ Llong</td>\n",
       "      <td>NaN</td>\n",
       "    </tr>\n",
       "    <tr>\n",
       "      <td>1</td>\n",
       "      <td>2</td>\n",
       "      <td>2017</td>\n",
       "      <td>Pune</td>\n",
       "      <td>2017-04-06</td>\n",
       "      <td>Mumbai Indians</td>\n",
       "      <td>Rising Pune Supergiant</td>\n",
       "      <td>Rising Pune Supergiant</td>\n",
       "      <td>field</td>\n",
       "      <td>normal</td>\n",
       "      <td>0</td>\n",
       "      <td>Rising Pune Supergiant</td>\n",
       "      <td>0</td>\n",
       "      <td>7</td>\n",
       "      <td>SPD Smith</td>\n",
       "      <td>Maharashtra Cricket Association Stadium</td>\n",
       "      <td>A Nand Kishore</td>\n",
       "      <td>S Ravi</td>\n",
       "      <td>NaN</td>\n",
       "    </tr>\n",
       "    <tr>\n",
       "      <td>2</td>\n",
       "      <td>3</td>\n",
       "      <td>2017</td>\n",
       "      <td>Rajkot</td>\n",
       "      <td>2017-04-07</td>\n",
       "      <td>Gujarat Lions</td>\n",
       "      <td>Kolkata Knight Riders</td>\n",
       "      <td>Kolkata Knight Riders</td>\n",
       "      <td>field</td>\n",
       "      <td>normal</td>\n",
       "      <td>0</td>\n",
       "      <td>Kolkata Knight Riders</td>\n",
       "      <td>0</td>\n",
       "      <td>10</td>\n",
       "      <td>CA Lynn</td>\n",
       "      <td>Saurashtra Cricket Association Stadium</td>\n",
       "      <td>Nitin Menon</td>\n",
       "      <td>CK Nandan</td>\n",
       "      <td>NaN</td>\n",
       "    </tr>\n",
       "    <tr>\n",
       "      <td>3</td>\n",
       "      <td>4</td>\n",
       "      <td>2017</td>\n",
       "      <td>Indore</td>\n",
       "      <td>2017-04-08</td>\n",
       "      <td>Rising Pune Supergiant</td>\n",
       "      <td>Kings XI Punjab</td>\n",
       "      <td>Kings XI Punjab</td>\n",
       "      <td>field</td>\n",
       "      <td>normal</td>\n",
       "      <td>0</td>\n",
       "      <td>Kings XI Punjab</td>\n",
       "      <td>0</td>\n",
       "      <td>6</td>\n",
       "      <td>GJ Maxwell</td>\n",
       "      <td>Holkar Cricket Stadium</td>\n",
       "      <td>AK Chaudhary</td>\n",
       "      <td>C Shamshuddin</td>\n",
       "      <td>NaN</td>\n",
       "    </tr>\n",
       "    <tr>\n",
       "      <td>4</td>\n",
       "      <td>5</td>\n",
       "      <td>2017</td>\n",
       "      <td>Bangalore</td>\n",
       "      <td>2017-04-08</td>\n",
       "      <td>Royal Challengers Bangalore</td>\n",
       "      <td>Delhi Daredevils</td>\n",
       "      <td>Royal Challengers Bangalore</td>\n",
       "      <td>bat</td>\n",
       "      <td>normal</td>\n",
       "      <td>0</td>\n",
       "      <td>Royal Challengers Bangalore</td>\n",
       "      <td>15</td>\n",
       "      <td>0</td>\n",
       "      <td>KM Jadhav</td>\n",
       "      <td>M Chinnaswamy Stadium</td>\n",
       "      <td>NaN</td>\n",
       "      <td>NaN</td>\n",
       "      <td>NaN</td>\n",
       "    </tr>\n",
       "  </tbody>\n",
       "</table>\n",
       "</div>"
      ],
      "text/plain": [
       "   id  season       city        date                        team1  \\\n",
       "0  1   2017    Hyderabad  2017-04-05  Sunrisers Hyderabad           \n",
       "1  2   2017    Pune       2017-04-06  Mumbai Indians                \n",
       "2  3   2017    Rajkot     2017-04-07  Gujarat Lions                 \n",
       "3  4   2017    Indore     2017-04-08  Rising Pune Supergiant        \n",
       "4  5   2017    Bangalore  2017-04-08  Royal Challengers Bangalore   \n",
       "\n",
       "                         team2                  toss_winner toss_decision  \\\n",
       "0  Royal Challengers Bangalore  Royal Challengers Bangalore  field          \n",
       "1  Rising Pune Supergiant       Rising Pune Supergiant       field          \n",
       "2  Kolkata Knight Riders        Kolkata Knight Riders        field          \n",
       "3  Kings XI Punjab              Kings XI Punjab              field          \n",
       "4  Delhi Daredevils             Royal Challengers Bangalore  bat            \n",
       "\n",
       "   result  dl_applied                       winner  win_by_runs  \\\n",
       "0  normal  0           Sunrisers Hyderabad          35            \n",
       "1  normal  0           Rising Pune Supergiant       0             \n",
       "2  normal  0           Kolkata Knight Riders        0             \n",
       "3  normal  0           Kings XI Punjab              0             \n",
       "4  normal  0           Royal Challengers Bangalore  15            \n",
       "\n",
       "   win_by_wickets player_of_match                                      venue  \\\n",
       "0  0               Yuvraj Singh    Rajiv Gandhi International Stadium, Uppal   \n",
       "1  7               SPD Smith       Maharashtra Cricket Association Stadium     \n",
       "2  10              CA Lynn         Saurashtra Cricket Association Stadium      \n",
       "3  6               GJ Maxwell      Holkar Cricket Stadium                      \n",
       "4  0               KM Jadhav       M Chinnaswamy Stadium                       \n",
       "\n",
       "          umpire1        umpire2 umpire3  \n",
       "0  AY Dandekar     NJ Llong       NaN     \n",
       "1  A Nand Kishore  S Ravi         NaN     \n",
       "2  Nitin Menon     CK Nandan      NaN     \n",
       "3  AK Chaudhary    C Shamshuddin  NaN     \n",
       "4  NaN             NaN            NaN     "
      ]
     },
     "execution_count": 4,
     "metadata": {},
     "output_type": "execute_result"
    }
   ],
   "source": [
    "df_matches = pd.read_csv('https://raw.githubusercontent.com/insaid2018/Term-1/master/Data/Projects/matches.csv',sep=',')\n",
    "df_matches.head()"
   ]
  },
  {
   "cell_type": "markdown",
   "metadata": {},
   "source": []
  },
  {
   "cell_type": "code",
   "execution_count": 5,
   "metadata": {},
   "outputs": [],
   "source": [
    "#df_matches.set_index('id',inplace=True)\n",
    "#df_matches.head()"
   ]
  },
  {
   "cell_type": "markdown",
   "metadata": {},
   "source": [
    "<a id='2_3'></a>\n",
    "## 2.2. Describe and find info about the data."
   ]
  },
  {
   "cell_type": "code",
   "execution_count": 6,
   "metadata": {},
   "outputs": [
    {
     "name": "stdout",
     "output_type": "stream",
     "text": [
      "<class 'pandas.core.frame.DataFrame'>\n",
      "RangeIndex: 696 entries, 0 to 695\n",
      "Data columns (total 18 columns):\n",
      "id                 696 non-null int64\n",
      "season             696 non-null int64\n",
      "city               689 non-null object\n",
      "date               696 non-null object\n",
      "team1              696 non-null object\n",
      "team2              696 non-null object\n",
      "toss_winner        696 non-null object\n",
      "toss_decision      696 non-null object\n",
      "result             696 non-null object\n",
      "dl_applied         696 non-null int64\n",
      "winner             693 non-null object\n",
      "win_by_runs        696 non-null int64\n",
      "win_by_wickets     696 non-null int64\n",
      "player_of_match    693 non-null object\n",
      "venue              696 non-null object\n",
      "umpire1            695 non-null object\n",
      "umpire2            695 non-null object\n",
      "umpire3            60 non-null object\n",
      "dtypes: int64(5), object(13)\n",
      "memory usage: 98.0+ KB\n"
     ]
    }
   ],
   "source": [
    "df_matches.info()"
   ]
  },
  {
   "cell_type": "code",
   "execution_count": 7,
   "metadata": {
    "scrolled": true
   },
   "outputs": [
    {
     "data": {
      "text/html": [
       "<div>\n",
       "<style scoped>\n",
       "    .dataframe tbody tr th:only-of-type {\n",
       "        vertical-align: middle;\n",
       "    }\n",
       "\n",
       "    .dataframe tbody tr th {\n",
       "        vertical-align: top;\n",
       "    }\n",
       "\n",
       "    .dataframe thead th {\n",
       "        text-align: right;\n",
       "    }\n",
       "</style>\n",
       "<table border=\"1\" class=\"dataframe\">\n",
       "  <thead>\n",
       "    <tr style=\"text-align: right;\">\n",
       "      <th></th>\n",
       "      <th>id</th>\n",
       "      <th>season</th>\n",
       "      <th>dl_applied</th>\n",
       "      <th>win_by_runs</th>\n",
       "      <th>win_by_wickets</th>\n",
       "    </tr>\n",
       "  </thead>\n",
       "  <tbody>\n",
       "    <tr>\n",
       "      <td>count</td>\n",
       "      <td>696.000000</td>\n",
       "      <td>696.000000</td>\n",
       "      <td>696.000000</td>\n",
       "      <td>696.000000</td>\n",
       "      <td>696.000000</td>\n",
       "    </tr>\n",
       "    <tr>\n",
       "      <td>mean</td>\n",
       "      <td>974.103448</td>\n",
       "      <td>2012.965517</td>\n",
       "      <td>0.027299</td>\n",
       "      <td>13.472701</td>\n",
       "      <td>3.349138</td>\n",
       "    </tr>\n",
       "    <tr>\n",
       "      <td>std</td>\n",
       "      <td>2143.239623</td>\n",
       "      <td>3.069266</td>\n",
       "      <td>0.163070</td>\n",
       "      <td>23.607994</td>\n",
       "      <td>3.411398</td>\n",
       "    </tr>\n",
       "    <tr>\n",
       "      <td>min</td>\n",
       "      <td>1.000000</td>\n",
       "      <td>2008.000000</td>\n",
       "      <td>0.000000</td>\n",
       "      <td>0.000000</td>\n",
       "      <td>0.000000</td>\n",
       "    </tr>\n",
       "    <tr>\n",
       "      <td>25%</td>\n",
       "      <td>174.750000</td>\n",
       "      <td>2010.000000</td>\n",
       "      <td>0.000000</td>\n",
       "      <td>0.000000</td>\n",
       "      <td>0.000000</td>\n",
       "    </tr>\n",
       "    <tr>\n",
       "      <td>50%</td>\n",
       "      <td>348.500000</td>\n",
       "      <td>2013.000000</td>\n",
       "      <td>0.000000</td>\n",
       "      <td>0.000000</td>\n",
       "      <td>3.000000</td>\n",
       "    </tr>\n",
       "    <tr>\n",
       "      <td>75%</td>\n",
       "      <td>522.250000</td>\n",
       "      <td>2016.000000</td>\n",
       "      <td>0.000000</td>\n",
       "      <td>19.000000</td>\n",
       "      <td>6.000000</td>\n",
       "    </tr>\n",
       "    <tr>\n",
       "      <td>max</td>\n",
       "      <td>7953.000000</td>\n",
       "      <td>2018.000000</td>\n",
       "      <td>1.000000</td>\n",
       "      <td>146.000000</td>\n",
       "      <td>10.000000</td>\n",
       "    </tr>\n",
       "  </tbody>\n",
       "</table>\n",
       "</div>"
      ],
      "text/plain": [
       "                id       season  dl_applied  win_by_runs  win_by_wickets\n",
       "count  696.000000   696.000000   696.000000  696.000000   696.000000    \n",
       "mean   974.103448   2012.965517  0.027299    13.472701    3.349138      \n",
       "std    2143.239623  3.069266     0.163070    23.607994    3.411398      \n",
       "min    1.000000     2008.000000  0.000000    0.000000     0.000000      \n",
       "25%    174.750000   2010.000000  0.000000    0.000000     0.000000      \n",
       "50%    348.500000   2013.000000  0.000000    0.000000     3.000000      \n",
       "75%    522.250000   2016.000000  0.000000    19.000000    6.000000      \n",
       "max    7953.000000  2018.000000  1.000000    146.000000   10.000000     "
      ]
     },
     "execution_count": 7,
     "metadata": {},
     "output_type": "execute_result"
    }
   ],
   "source": [
    "df_matches.describe()"
   ]
  },
  {
   "cell_type": "code",
   "execution_count": 8,
   "metadata": {},
   "outputs": [
    {
     "data": {
      "text/plain": [
       "id                 0  \n",
       "season             0  \n",
       "city               7  \n",
       "date               0  \n",
       "team1              0  \n",
       "team2              0  \n",
       "toss_winner        0  \n",
       "toss_decision      0  \n",
       "result             0  \n",
       "dl_applied         0  \n",
       "winner             3  \n",
       "win_by_runs        0  \n",
       "win_by_wickets     0  \n",
       "player_of_match    3  \n",
       "venue              0  \n",
       "umpire1            1  \n",
       "umpire2            1  \n",
       "umpire3            636\n",
       "dtype: int64"
      ]
     },
     "execution_count": 8,
     "metadata": {},
     "output_type": "execute_result"
    }
   ],
   "source": [
    "df_matches.isnull().sum()"
   ]
  },
  {
   "cell_type": "markdown",
   "metadata": {},
   "source": [
    "<a id='2_4'></a>\n",
    "## 2.3. Data pre profiling.\n",
    "Let us explore more about the data (Profiling)."
   ]
  },
  {
   "cell_type": "code",
   "execution_count": 9,
   "metadata": {},
   "outputs": [
    {
     "name": "stdout",
     "output_type": "stream",
     "text": [
      "Collecting pandas-profiling\n",
      "  Using cached https://files.pythonhosted.org/packages/2c/2f/aae19e2173c10a9bb7fee5f5cad35dbe53a393960fc91abc477dcc4661e8/pandas-profiling-2.3.0.tar.gz\n",
      "    Complete output from command python setup.py egg_info:\n",
      "    Traceback (most recent call last):\n",
      "      File \"<string>\", line 1, in <module>\n",
      "      File \"/tmp/pip-build-8WDtw6/pandas-profiling/setup.py\", line 1, in <module>\n",
      "        from pathlib import Path\n",
      "    ImportError: No module named pathlib\n",
      "    \n",
      "    ----------------------------------------\n",
      "\u001b[31mCommand \"python setup.py egg_info\" failed with error code 1 in /tmp/pip-build-8WDtw6/pandas-profiling/\u001b[0m\n"
     ]
    }
   ],
   "source": [
    "!pip install pandas-profiling --upgrade"
   ]
  },
  {
   "cell_type": "code",
   "execution_count": 10,
   "metadata": {},
   "outputs": [
    {
     "ename": "ModuleNotFoundError",
     "evalue": "No module named 'pandas_profiling'",
     "output_type": "error",
     "traceback": [
      "\u001b[0;31m---------------------------------------------------------------------------\u001b[0m",
      "\u001b[0;31mModuleNotFoundError\u001b[0m                       Traceback (most recent call last)",
      "\u001b[0;32m<ipython-input-10-0b1cdbbfe87d>\u001b[0m in \u001b[0;36m<module>\u001b[0;34m\u001b[0m\n\u001b[0;32m----> 1\u001b[0;31m \u001b[0;32mimport\u001b[0m \u001b[0mpandas_profiling\u001b[0m\u001b[0;34m\u001b[0m\u001b[0;34m\u001b[0m\u001b[0m\n\u001b[0m\u001b[1;32m      2\u001b[0m \u001b[0;34m\u001b[0m\u001b[0m\n\u001b[1;32m      3\u001b[0m \u001b[0;34m\u001b[0m\u001b[0m\n\u001b[1;32m      4\u001b[0m \u001b[0mprofile\u001b[0m \u001b[0;34m=\u001b[0m \u001b[0mdf_matches\u001b[0m\u001b[0;34m.\u001b[0m\u001b[0mprofile_report\u001b[0m\u001b[0;34m(\u001b[0m\u001b[0mtitle\u001b[0m\u001b[0;34m=\u001b[0m\u001b[0;34m\"IPL Matches Data before Data Preprocessing\"\u001b[0m\u001b[0;34m,\u001b[0m\u001b[0mcorrelations\u001b[0m\u001b[0;34m=\u001b[0m\u001b[0;34m{\u001b[0m\u001b[0;34m\"cramers\"\u001b[0m\u001b[0;34m:\u001b[0m \u001b[0;32mFalse\u001b[0m\u001b[0;34m}\u001b[0m\u001b[0;34m)\u001b[0m\u001b[0;34m\u001b[0m\u001b[0;34m\u001b[0m\u001b[0m\n\u001b[1;32m      5\u001b[0m \u001b[0mprofile\u001b[0m\u001b[0;34m.\u001b[0m\u001b[0mto_file\u001b[0m\u001b[0;34m(\u001b[0m\u001b[0moutput_file\u001b[0m\u001b[0;34m=\u001b[0m\u001b[0;34m\"ipl_matches_profiling_before_preprocessing.html\"\u001b[0m\u001b[0;34m)\u001b[0m\u001b[0;34m\u001b[0m\u001b[0;34m\u001b[0m\u001b[0m\n",
      "\u001b[0;31mModuleNotFoundError\u001b[0m: No module named 'pandas_profiling'"
     ]
    }
   ],
   "source": [
    "import pandas_profiling \n",
    "\n",
    "\n",
    "profile = df_matches.profile_report(title=\"IPL Matches Data before Data Preprocessing\",correlations={\"cramers\": False})\n",
    "profile.to_file(output_file=\"ipl_matches_profiling_before_preprocessing.html\")"
   ]
  },
  {
   "cell_type": "markdown",
   "metadata": {},
   "source": [
    "## Info from profiling.\n",
    "1. <b>Date</b> column has very high cardinalty (498), Let's drop the column.\n",
    "2. <b>City</b> also has 7 missing values, we can get try to get the city from Venue.\n",
    "3. <b>umpire3</b> has Lot of missing values, we don't have any other info from where we can get the umpire3 details. \n",
    "So let's  drop that column.\n",
    "4. <b>win_by_runs</b> columns has 54.7% of zeros, this can be because the match would have been won by wickets.\n",
    "5. Zeros in <b>win_by_wickets</b> column could also mean the same, i.e. match would have been won by runs.\n",
    "6. <b>Id</b> columns had different ranges, so we choose to drop the column."
   ]
  },
  {
   "cell_type": "markdown",
   "metadata": {},
   "source": [
    "<a id='2_5'></a>\n",
    "## 2.4. Drop id, date and umpire3 column. "
   ]
  },
  {
   "cell_type": "code",
   "execution_count": null,
   "metadata": {},
   "outputs": [],
   "source": [
    "df_matches.drop(['id','date','umpire3'],axis=1,inplace=True)\n",
    "df_matches.head()"
   ]
  },
  {
   "cell_type": "markdown",
   "metadata": {},
   "source": [
    "<a id='2_6'></a>\n",
    "## 2.5. Fill missing values in City column."
   ]
  },
  {
   "cell_type": "code",
   "execution_count": null,
   "metadata": {},
   "outputs": [],
   "source": [
    "df_matches[df_matches.city.isnull()].venue.unique()"
   ]
  },
  {
   "cell_type": "markdown",
   "metadata": {},
   "source": [
    "##### It means that the city is missing for those columns with venue as 'Dubai International Cricket Stadium'"
   ]
  },
  {
   "cell_type": "markdown",
   "metadata": {},
   "source": [
    "#### Lets check if anywhere in the data we have the city for this stadium"
   ]
  },
  {
   "cell_type": "code",
   "execution_count": null,
   "metadata": {},
   "outputs": [],
   "source": [
    "df_matches[df_matches.venue=='Dubai International Cricket Stadium'].city.unique()"
   ]
  },
  {
   "cell_type": "markdown",
   "metadata": {},
   "source": [
    "#### No we don't have the City for this venue. Then Lets just put the city as Dubai."
   ]
  },
  {
   "cell_type": "code",
   "execution_count": null,
   "metadata": {},
   "outputs": [],
   "source": [
    "df_matches.loc[df_matches.city.isnull(),'city'] = 'Dubai'"
   ]
  },
  {
   "cell_type": "code",
   "execution_count": null,
   "metadata": {},
   "outputs": [],
   "source": [
    "df_matches[df_matches.venue=='Dubai International Cricket Stadium'].head()"
   ]
  },
  {
   "cell_type": "code",
   "execution_count": null,
   "metadata": {},
   "outputs": [],
   "source": [
    "df_matches.isnull().sum()"
   ]
  },
  {
   "cell_type": "markdown",
   "metadata": {},
   "source": [
    "##### From the above data,we confirm that there exist no null values for city now."
   ]
  },
  {
   "cell_type": "markdown",
   "metadata": {},
   "source": [
    "<a id='2_7'></a>\n",
    "## 2.6. Fill null values for remaining values.\n",
    "Let's find out the reason, and try to eliminate the null values for 'winner','player_of_match','umpire1','umpire2'"
   ]
  },
  {
   "cell_type": "code",
   "execution_count": null,
   "metadata": {},
   "outputs": [],
   "source": [
    "df_matches[df_matches.winner.isnull()]"
   ]
  },
  {
   "cell_type": "markdown",
   "metadata": {},
   "source": [
    "Matches for no result have 'winner' and 'player_of_match' as null. \n",
    "Here are some of the choices i have to fill these null values.\n",
    "\n",
    "1. Drop these columns, as they constitute very small percentage in data.\n",
    "2. Replace the null values with some other value such as 'Not decided'.\n",
    "3. Replace the 'winner' with team which has won more matches agaisnt each other, and 'player_of_match' as most number of times player_of_match name in a winning team.\n",
    "\n",
    "The last solution might make data little more complicated, and we might land in situations as follows.\n",
    "\n",
    "1. what if number of matches won against eachother is same.\n",
    "2. what if number of palyer_of_match is maximum and equal for more than one player.\n",
    "       \n",
    "So i will choose the (2). and replace null values as not decided.\n"
   ]
  },
  {
   "cell_type": "code",
   "execution_count": null,
   "metadata": {},
   "outputs": [],
   "source": [
    "df_matches.loc[df_matches.winner.isnull(),['winner','player_of_match']] = 'undecided'\n",
    "df_matches.loc[df_matches.result=='no result']"
   ]
  },
  {
   "cell_type": "markdown",
   "metadata": {},
   "source": [
    "#### Now lets check where is umpire1 and umpire2 missing in data."
   ]
  },
  {
   "cell_type": "code",
   "execution_count": null,
   "metadata": {},
   "outputs": [],
   "source": [
    "df_matches[df_matches.umpire2.isnull()]"
   ]
  },
  {
   "cell_type": "markdown",
   "metadata": {},
   "source": [
    "##### umpire1 and umpire2 are missing for same match, lets see the value counts and replace it with most frequent accurance of umpire."
   ]
  },
  {
   "cell_type": "code",
   "execution_count": null,
   "metadata": {},
   "outputs": [],
   "source": [
    "ump1 = df_matches.umpire1.value_counts().head(1).index\n",
    "ump2 = df_matches.umpire2.value_counts().head(1).index\n",
    "df_matches.loc[df_matches.umpire1.isnull(),'umpire1'] = ump1\n",
    "df_matches.loc[df_matches.umpire2.isnull(),'umpire2'] = ump2\n",
    "df_matches.head()"
   ]
  },
  {
   "cell_type": "code",
   "execution_count": null,
   "metadata": {},
   "outputs": [],
   "source": [
    "df_matches.isnull().sum()"
   ]
  },
  {
   "cell_type": "markdown",
   "metadata": {},
   "source": [
    "<a id='2_9'></a>\n",
    "## 2.7. Rename Decan charges as SRH & Fix RPS names"
   ]
  },
  {
   "cell_type": "code",
   "execution_count": null,
   "metadata": {},
   "outputs": [],
   "source": []
  },
  {
   "cell_type": "markdown",
   "metadata": {},
   "source": [
    "### Hurray! No missing data at all now."
   ]
  },
  {
   "cell_type": "markdown",
   "metadata": {},
   "source": [
    "<a id='2_8'></a>\n",
    "## 2.8. Data post profiling.\n",
    "Lets do post profiling and get the profiling info of the current data."
   ]
  },
  {
   "cell_type": "code",
   "execution_count": null,
   "metadata": {},
   "outputs": [],
   "source": [
    "import pandas_profiling \n",
    "\n",
    "\n",
    "profile = df_matches.profile_report(title=\"IPL Matches Data After Data Preprocessing\",correlations={\"cramers\": False})\n",
    "profile.to_file(output_file=\"ipl_matches_profiling_after_preprocessing.html\")"
   ]
  },
  {
   "cell_type": "markdown",
   "metadata": {},
   "source": [
    "### Data Looks much cleaner Let's proceed with EDA.\n"
   ]
  },
  {
   "cell_type": "markdown",
   "metadata": {},
   "source": [
    "<a id='3'></a>    \n",
    "# 3. EDA on IPL data\n",
    "et's perform EDA on the preprocessed data."
   ]
  },
  {
   "cell_type": "code",
   "execution_count": null,
   "metadata": {},
   "outputs": [],
   "source": [
    "df_matches.head()"
   ]
  },
  {
   "cell_type": "markdown",
   "metadata": {},
   "source": [
    "<a id='3_1'></a>\n",
    "## 3.1. Univariate Analysis"
   ]
  },
  {
   "cell_type": "markdown",
   "metadata": {},
   "source": [
    "<a id='3_1_1'></a>\n",
    "### 3.1.1. What are the different teams played in IPL?"
   ]
  },
  {
   "cell_type": "code",
   "execution_count": null,
   "metadata": {},
   "outputs": [],
   "source": [
    "unq_t1 = df_matches.team1.unique()\n",
    "unq_t2 = df_matches.team2.unique()\n",
    "unq = np.concatenate((unq_t1,unq_t2),axis=0)\n",
    "print(np.unique(unq))"
   ]
  },
  {
   "cell_type": "markdown",
   "metadata": {},
   "source": [
    "##### The differrent teams played in IPL are as follows :\n",
    "1. Chennai Super Kings\n",
    "2. Deccan Chargers\n",
    "3. Delhi Daredevils\n",
    "4. Gujarat Lions\n",
    "5. Kings XI Punjab\n",
    "6. Kochi Tuskers Kerala\n",
    "7. Kolkata Knight Riders\n",
    "8. Mumbai Indians\n",
    "9. Pune Warriors\n",
    "10. Rajasthan Royals\n",
    "11. Rising Pune Supergiants\n",
    "12. Royal Challengers Bangalore\n",
    "13. Sunrisers Hyderabad"
   ]
  },
  {
   "cell_type": "markdown",
   "metadata": {},
   "source": [
    "<a id='3_1_2'></a>\n",
    "### 3.1.2. which are top 5 cities where maximum number of matches are played ?"
   ]
  },
  {
   "cell_type": "code",
   "execution_count": null,
   "metadata": {},
   "outputs": [],
   "source": [
    "df_matches.groupby('city')['season'].count().sort_values(ascending=False)[:5].plot(kind='barh', figsize=(10,5), fontsize=15)"
   ]
  },
  {
   "cell_type": "markdown",
   "metadata": {},
   "source": [
    "##### The Top Cities where maximum matches played are :\n",
    "1. Mumbai.\n",
    "2. Kolkata.\n",
    "3. Delhi.\n",
    "4. Bangalore.\n",
    "5. Hydrabad."
   ]
  },
  {
   "cell_type": "markdown",
   "metadata": {},
   "source": [
    "<a id='3_1_3'></a>\n",
    "### 3.1.3. How many matches played in each seasons of IPL ?"
   ]
  },
  {
   "cell_type": "code",
   "execution_count": null,
   "metadata": {},
   "outputs": [],
   "source": [
    "df_matches.groupby('season')['city'].count().sort_values(ascending=False).plot('bar', figsize=(10,5), fontsize=15)"
   ]
  },
  {
   "cell_type": "markdown",
   "metadata": {},
   "source": [
    "##### From above figure we can say that highest number of matches were played in 2013, and lowest number of matches were played in 2009. "
   ]
  },
  {
   "cell_type": "markdown",
   "metadata": {},
   "source": [
    "<a id='3_1_4'></a>\n",
    "### 3.1.4. What has been the major decesion when toss is won ?"
   ]
  },
  {
   "cell_type": "code",
   "execution_count": null,
   "metadata": {},
   "outputs": [],
   "source": [
    "df_matches.groupby('toss_decision')['season'].count().plot(kind='pie', figsize=(5,5), fontsize=15, autopct='%3.1f%%', wedgeprops=dict(width=0.7), explode=[0.01, 0.01], startangle=90)"
   ]
  },
  {
   "cell_type": "markdown",
   "metadata": {},
   "source": [
    "From above chart we can see that the teams winning the toss have selected to field i.e. <b>59.3%</b>.<br>\n",
    "<b>40.7%</b> of the times the teams have selected to bat."
   ]
  },
  {
   "cell_type": "markdown",
   "metadata": {},
   "source": [
    "<a id='3_1_5'></a>\n",
    "### 3.1.5. Which have been top teams who have won the toss maximum number of times ?"
   ]
  },
  {
   "cell_type": "code",
   "execution_count": null,
   "metadata": {},
   "outputs": [],
   "source": [
    "df_matches.groupby('toss_winner')['season'].count().sort_values(ascending=False)[:5].plot(kind='barh', figsize=(10,5), fontsize=15)"
   ]
  },
  {
   "cell_type": "markdown",
   "metadata": {},
   "source": [
    "From the above figure it is clear than <b>Mumbai Indians</b> and <b>Kokata Knight Riders</b> have won the toss maximum number of times."
   ]
  },
  {
   "cell_type": "markdown",
   "metadata": {},
   "source": [
    "<a id='3_1_6'></a>\n",
    "### 3.1.6. What are the top 5 venues where matches have been played ?"
   ]
  },
  {
   "cell_type": "code",
   "execution_count": null,
   "metadata": {},
   "outputs": [],
   "source": [
    "df_matches.groupby('venue')['season'].count().sort_values(ascending=False)[:5].plot(kind='barh', figsize=(10,5), fontsize=15)"
   ]
  },
  {
   "cell_type": "markdown",
   "metadata": {},
   "source": [
    "The above graph represent the top 5 venue's where maximum matches have been played.<br> <b>M Chinnaswamy Stadium</b> being the Top venue."
   ]
  },
  {
   "cell_type": "markdown",
   "metadata": {},
   "source": [
    "<a id='3_1_7'></a>\n",
    "### 3.1.7. Which are top 3 teams which have won maximum matches ?"
   ]
  },
  {
   "cell_type": "code",
   "execution_count": null,
   "metadata": {},
   "outputs": [],
   "source": [
    "df_matches.groupby('winner')['season'].count().sort_values(ascending=False)[:3].plot(kind='bar', figsize=(10,5), fontsize=15)"
   ]
  },
  {
   "cell_type": "markdown",
   "metadata": {},
   "source": [
    "The above are teams that have won maximum number of matches.<br> <b>Mumbai Indians</b> being the top team. "
   ]
  },
  {
   "cell_type": "markdown",
   "metadata": {},
   "source": [
    "<a id='3_1_8'></a>\n",
    "### 3.1.8. How many matches have been no_result or draw?"
   ]
  },
  {
   "cell_type": "code",
   "execution_count": null,
   "metadata": {},
   "outputs": [],
   "source": [
    "results_df = df_matches.groupby('result')['season'].count()\n",
    "print(results_df)\n",
    "results_df.plot(kind='pie', figsize=(5,5), fontsize=10, wedgeprops=dict(width=0.5), explode=[0.1, 0.1,0.1], startangle=0, label='Matches result ')\n"
   ]
  },
  {
   "cell_type": "markdown",
   "metadata": {},
   "source": [
    "From above we confirm the that <b>7 - Tie</b> and <b>3 - no result</b>."
   ]
  },
  {
   "cell_type": "markdown",
   "metadata": {},
   "source": [
    "<a id='3_1_9'></a>\n",
    "### 3.1.9. How many matches have won batting first  and won batting second ?"
   ]
  },
  {
   "cell_type": "code",
   "execution_count": null,
   "metadata": {},
   "outputs": [],
   "source": [
    "w_b_r = df_matches[df_matches.win_by_runs > 0]['season'].count()\n",
    "w_b_w = df_matches[df_matches.win_by_wickets > 0]['season'].count()\n",
    "\n",
    "plt.pie([w_b_r,w_b_w], autopct='%1.1f%%', explode=[0.02,0.02], startangle=90, colors=['green','Orange'], wedgeprops=dict(width=0.7), labels=['Won_batting_First','Won_batting_Second'])"
   ]
  },
  {
   "cell_type": "markdown",
   "metadata": {},
   "source": [
    "From the above figure we can say the most of the time the teams have won <b>batting second</b>.<br>\n",
    "<b>54.1%  -  Batting second</b><br>\n",
    "<b>45.9%  -  Batting First</b>"
   ]
  },
  {
   "cell_type": "markdown",
   "metadata": {},
   "source": [
    "<a id='3_1_10'></a>\n",
    "### 3.1.10. Who have done umpring maximum number of times ?"
   ]
  },
  {
   "cell_type": "code",
   "execution_count": null,
   "metadata": {},
   "outputs": [],
   "source": [
    "top_1 = df_matches.groupby('umpire1')['season'].count().sort_values(ascending=False)[:5]\n",
    "top_2 = df_matches.groupby('umpire2')['season'].count().sort_values(ascending=False)[:5]\n",
    "top_1.add(top_2, fill_value=0).sort_values(ascending=False)[:5].plot(kind='bar', figsize=(10,5), fontsize=15)\n"
   ]
  },
  {
   "cell_type": "markdown",
   "metadata": {},
   "source": [
    "The above are the top 5 Umpries who have done umpiring for maximum number of times with <b>S Ravi</b> umpiring in most of the matches."
   ]
  },
  {
   "cell_type": "markdown",
   "metadata": {},
   "source": [
    "<a id='3_1_11'></a>\n",
    "### 3.1.11. Which team has played maximum matches ?"
   ]
  },
  {
   "cell_type": "code",
   "execution_count": null,
   "metadata": {},
   "outputs": [],
   "source": [
    "max_1 = df_matches.groupby('team1')['season'].count().sort_values(ascending=False)\n",
    "max_2 = df_matches.groupby('team2')['season'].count().sort_values(ascending=False)\n",
    "max_1.add(max_2, fill_value=0).sort_values(ascending=False)[:5]"
   ]
  },
  {
   "cell_type": "markdown",
   "metadata": {},
   "source": [
    "The above mentioned are the top 5 teams who have played most number of matches with <b>Mumbai Indains</b> playine most number of matches"
   ]
  }
 ],
 "metadata": {
  "kernelspec": {
   "display_name": "Python 3",
   "language": "python",
   "name": "python3"
  },
  "language_info": {
   "codemirror_mode": {
    "name": "ipython",
    "version": 3
   },
   "file_extension": ".py",
   "mimetype": "text/x-python",
   "name": "python",
   "nbconvert_exporter": "python",
   "pygments_lexer": "ipython3",
   "version": "3.7.4"
  }
 },
 "nbformat": 4,
 "nbformat_minor": 2
}
