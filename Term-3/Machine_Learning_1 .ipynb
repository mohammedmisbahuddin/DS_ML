{
 "cells": [
  {
   "cell_type": "markdown",
   "metadata": {},
   "source": [
    "# Machine Learning Foundations."
   ]
  },
  {
   "cell_type": "markdown",
   "metadata": {},
   "source": [
    "### Fruit classification \n",
    "1. Taste : sweet / sour\n",
    "2. smell\n",
    "3. colour\n",
    "4. size\n",
    "5. shape\n",
    "6. seeds<br>\n",
    "    -. size<br>\n",
    "    -. colour<br>\n",
    "    -. has/no<br>\n",
    "7. Origin/ geographical location:\n",
    "8. tree<br>\n",
    "    -. Type : creeper<br>\n",
    "    -. growth : bunches / individual<br>\n",
    "    -. leaves<br>\n",
    "9. type : Dry / fresh\n",
    "10. nutrients:<br>\n",
    "    -. vitamins:<br>\n",
    "    -. minerals : <br>\n",
    "11. Edible : poisonous / Non-poisonous \n",
    "12. shelf life :\n",
    "13. texture : Hard / soft\n",
    "14. Consumption :Ripe / NA\n",
    "15. skin type: thick / thin / edible / peelable\n",
    "16. yield quatity per sqquare feet : \n",
    "17. seasonal / Non-seasonal\n",
    "18. cost"
   ]
  },
  {
   "cell_type": "markdown",
   "metadata": {},
   "source": [
    "# Machine Learning (New)\n",
    "\n",
    "\n",
    "## Regression\n",
    "### Target variable: The variable to be predicted.\n",
    "## Classification : clsifiying the data based on features in categories  \n",
    "    -. 1.Classification of chicken sexes based on features.\n",
    "    -. 2.Classification human sexes.\n"
   ]
  },
  {
   "cell_type": "markdown",
   "metadata": {},
   "source": [
    "## Computer vision\n",
    "\n",
    "## Time series analysis\n",
    "\n",
    "## "
   ]
  }
 ],
 "metadata": {
  "kernelspec": {
   "display_name": "Python 3",
   "language": "python",
   "name": "python3"
  },
  "language_info": {
   "codemirror_mode": {
    "name": "ipython",
    "version": 3
   },
   "file_extension": ".py",
   "mimetype": "text/x-python",
   "name": "python",
   "nbconvert_exporter": "python",
   "pygments_lexer": "ipython3",
   "version": "3.7.4"
  }
 },
 "nbformat": 4,
 "nbformat_minor": 2
}
